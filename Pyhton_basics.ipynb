{
  "nbformat": 4,
  "nbformat_minor": 0,
  "metadata": {
    "colab": {
      "provenance": []
    },
    "kernelspec": {
      "name": "python3",
      "display_name": "Python 3"
    },
    "language_info": {
      "name": "python"
    }
  },
  "cells": [
    {
      "cell_type": "markdown",
      "source": [
        "**THEORY QUESTIONS**"
      ],
      "metadata": {
        "id": "xUgvB1Nw5pN1"
      }
    },
    {
      "cell_type": "markdown",
      "source": [
        "Ques 1- what is phython , and why is it popular?\n",
        "\n",
        "Ans 1- python is a programming language which helps to create rules and instruction for a computer to follow. Python is a language which is used to give set of special symbols and rules that you use to give instruction to a computer .\n",
        "\n",
        "Why its popular\n",
        "\n",
        "widely used in the industry\n",
        "simplicity\n",
        "lot of libraries\n",
        "huge active community\n",
        "verstality (web dev , ml , etc ...)"
      ],
      "metadata": {
        "id": "GhTc2VJT55zb"
      }
    },
    {
      "cell_type": "markdown",
      "source": [
        "Ques 2- what is interpreter in python?\n",
        "\n",
        "Ans 2- A Python interpreter is a computer program that translates Python code into machine code, allowing the computer to understand and execute the code."
      ],
      "metadata": {
        "id": "Ez3B-mWM55vT"
      }
    },
    {
      "cell_type": "markdown",
      "source": [
        "Ques 3- what are pre defined keywords in python ?\n",
        "\n",
        "Ans 3- Predefined keywords in Python are words with specific meanings and uses that are reserved for internal operations and cannot be changed by the programmer. They are part of the Python syntax and cannot be used as identifiers, such as for naming variables, functions, and classes."
      ],
      "metadata": {
        "id": "bkWCaBZu55rB"
      }
    },
    {
      "cell_type": "markdown",
      "source": [
        "Ques 4- can keywords be used as variable names?\n",
        "\n",
        "Ans 4- no its not used as variable names."
      ],
      "metadata": {
        "id": "Elw71yl-55mn"
      }
    },
    {
      "cell_type": "markdown",
      "source": [
        "Ques 5- What is mutability in phython?\n",
        "\n",
        "Ans 5- Mutability in python is changing or extracting object's after its creation."
      ],
      "metadata": {
        "id": "t4ZJ1sDg55iT"
      }
    },
    {
      "cell_type": "markdown",
      "source": [
        "Ques 6- Why are lists mutable, but tuples are immutable?\n",
        "\n",
        "Ans 6- List are mutable data type because it changed the objects after it's created ,on the other hand tuples are immutable because it cannot changed object after it's created."
      ],
      "metadata": {
        "id": "cDwVVkzR55eV"
      }
    },
    {
      "cell_type": "markdown",
      "source": [
        "Ques 7- What is the difference between “==” and “is” operators in Python ?\n",
        "\n",
        "Ans 7- This \"==\" equal operator is used if the value of two variable is same , while the 'is' operator is used if two variables holds the same objects in the memory."
      ],
      "metadata": {
        "id": "WdO0Mpml55aQ"
      }
    },
    {
      "cell_type": "markdown",
      "source": [
        "Ques 8- What are logical opreators in python?\n",
        "\n",
        "Ans 8- Logical operators in Python are special characters or symbols that evaluate multiple conditions and determine the truth value of an expression. There are three logical operators in Python ( and , or , not )"
      ],
      "metadata": {
        "id": "ey3OZs3v55Uy"
      }
    },
    {
      "cell_type": "markdown",
      "source": [
        "Ques 9- What are type casting in phython?\n",
        "\n",
        "Ans 9- Type casting in python is to change the data type into another data type . for example : changing an interger into float or change complex number into string . It is known as data type conversion or type casting."
      ],
      "metadata": {
        "id": "RSOWRn5p55Mw"
      }
    },
    {
      "cell_type": "markdown",
      "source": [
        "Ques 10- What is the difference between implicit and explicit type casting/\n",
        "\n",
        "Ans 10- Implicit : it is a type casting automatically done by the complier.\n",
        "\n",
        "Explicit : it is a type casting which is manually done by the programmer."
      ],
      "metadata": {
        "id": "CP4At12H55Bp"
      }
    },
    {
      "cell_type": "markdown",
      "source": [
        "Ques 11- What is the purpose of conditional statements in Python?\n",
        "\n",
        "Ans 11- It helps to code decisions with some precondition. They allow you to make decision based on the values of the variables or result of comparisons."
      ],
      "metadata": {
        "id": "i1Dcs8DS540t"
      }
    },
    {
      "cell_type": "markdown",
      "source": [
        "Ques 12- How does the elif statement work?\n",
        "\n",
        "Ans 12- Elif statement work to write multiple statements or conditions to check wheather it's true or false."
      ],
      "metadata": {
        "id": "ZlW-3zBm54iY"
      }
    },
    {
      "cell_type": "markdown",
      "source": [
        "Ques 13- What is the difference between for and while loops?\n",
        "\n",
        "Ans 13- For \"for\" loop is something when you know how many times a block of code is repeatedly ,whereas a \"while\" loop is when you don't know how many times a block of code is repeatedly ,until it met a certain condition."
      ],
      "metadata": {
        "id": "ulb1u5PRA5k5"
      }
    },
    {
      "cell_type": "markdown",
      "source": [
        "Ques 14- Describe a scenario where a while loop is more suitable than a for loop?\n",
        "\n",
        "Ans 14- While\" loop is more suitable than a \"for\" loop when you don't know how many times the number iterates and want to continue the loop until a specific condition dosen't meet.\n"
      ],
      "metadata": {
        "id": "siIRpphqA5J5"
      }
    },
    {
      "cell_type": "code",
      "source": [
        "# For example\n",
        "a = 40\n",
        "i=50\n",
        "while i > a :\n",
        "    print (i)\n",
        "    i = i-1\n",
        "else :\n",
        "    print (\"this will excecute when while is true \")\n"
      ],
      "metadata": {
        "colab": {
          "base_uri": "https://localhost:8080/"
        },
        "id": "annR7x3xBhlk",
        "outputId": "c2a71f15-7d1b-4bc0-c5a4-c6c300f42100"
      },
      "execution_count": 14,
      "outputs": [
        {
          "output_type": "stream",
          "name": "stdout",
          "text": [
            "50\n",
            "49\n",
            "48\n",
            "47\n",
            "46\n",
            "45\n",
            "44\n",
            "43\n",
            "42\n",
            "41\n",
            "this will excecute when while is true \n"
          ]
        }
      ]
    },
    {
      "cell_type": "markdown",
      "source": [
        "**PRACTICAL QUESTIONS**"
      ],
      "metadata": {
        "id": "WgdqYdWTBzDy"
      }
    },
    {
      "cell_type": "markdown",
      "source": [
        "\n",
        "QUESTION 1 - Write a phython program print \"Hello,World!\""
      ],
      "metadata": {
        "id": "rkg8NBQBob7s"
      }
    },
    {
      "cell_type": "code",
      "execution_count": null,
      "metadata": {
        "colab": {
          "base_uri": "https://localhost:8080/"
        },
        "id": "Md_rswbToUtC",
        "outputId": "c571cf1f-de37-4e73-b0d3-23cdd4f0b86e"
      },
      "outputs": [
        {
          "output_type": "stream",
          "name": "stdout",
          "text": [
            "Hello World\n"
          ]
        }
      ],
      "source": [
        "print(\"Hello World\")"
      ]
    },
    {
      "cell_type": "markdown",
      "source": [
        "QUESTION 2 - Write a python program that displays your name and age.\n"
      ],
      "metadata": {
        "id": "gTUEDDg1p2lH"
      }
    },
    {
      "cell_type": "code",
      "source": [
        "name = input(\"what is your name:\")\n",
        "age = input(\"how old are you:\")\n",
        "print(\"your name is\" , name)\n",
        "print(\"you are\" , age , \"years old\")"
      ],
      "metadata": {
        "colab": {
          "base_uri": "https://localhost:8080/"
        },
        "id": "Nkzhy45AwZmK",
        "outputId": "4dda4a35-11ed-4fdb-c465-fb698e22cb3c"
      },
      "execution_count": null,
      "outputs": [
        {
          "output_type": "stream",
          "name": "stdout",
          "text": [
            "what is your name:Bimal\n",
            "how old are you:26\n",
            "your name is Bimal\n",
            "you are 26 years old\n"
          ]
        }
      ]
    },
    {
      "cell_type": "markdown",
      "source": [
        "Ques 3- Write code to print all the pre-defined keywords in python using the keyword library."
      ],
      "metadata": {
        "id": "YBINlf-nT2hK"
      }
    },
    {
      "cell_type": "code",
      "source": [
        "help('keywords')"
      ],
      "metadata": {
        "colab": {
          "base_uri": "https://localhost:8080/"
        },
        "id": "nPvsOHcsV1Xe",
        "outputId": "0e0bad32-d149-4c74-fd3d-ba259b1bdb6e"
      },
      "execution_count": 1,
      "outputs": [
        {
          "output_type": "stream",
          "name": "stdout",
          "text": [
            "\n",
            "Here is a list of the Python keywords.  Enter any keyword to get more help.\n",
            "\n",
            "False               class               from                or\n",
            "None                continue            global              pass\n",
            "True                def                 if                  raise\n",
            "and                 del                 import              return\n",
            "as                  elif                in                  try\n",
            "assert              else                is                  while\n",
            "async               except              lambda              with\n",
            "await               finally             nonlocal            yield\n",
            "break               for                 not                 \n",
            "\n"
          ]
        }
      ]
    },
    {
      "cell_type": "markdown",
      "source": [
        "Ques 4- Write a program that checks if a given word is a Python keyword ?\n",
        "\n",
        "\n"
      ],
      "metadata": {
        "id": "r0mNAmMpWOmU"
      }
    },
    {
      "cell_type": "code",
      "source": [
        "import keyword\n",
        "\n",
        "word = input ('enter a word to check a python keyword')\n",
        "if keyword.iskeyword(word):\n",
        "    print (f\"'{word}' is a python keyword!\")\n",
        "else :\n",
        "    print (f\"'{word}' is not a python keyword.\")"
      ],
      "metadata": {
        "colab": {
          "base_uri": "https://localhost:8080/"
        },
        "id": "GzX3r4_0V-ew",
        "outputId": "568de4c1-1d2a-4f08-e673-e587bc266313"
      },
      "execution_count": 4,
      "outputs": [
        {
          "output_type": "stream",
          "name": "stdout",
          "text": [
            "enter a word to check a python keywordnot\n",
            "'not' is a python keyword!\n"
          ]
        }
      ]
    },
    {
      "cell_type": "markdown",
      "source": [
        "Ques 5- Create a list and tuple in Python, and demonstrate how attempting to change an element works differently for each?"
      ],
      "metadata": {
        "id": "GEZXZn79XIrw"
      }
    },
    {
      "cell_type": "code",
      "source": [
        "# 'list' is mutable data type.\n",
        "list=[1,2,3.0,'abhi' , True]\n",
        "list[3]= 'ajay'\n",
        "list"
      ],
      "metadata": {
        "colab": {
          "base_uri": "https://localhost:8080/"
        },
        "id": "2U79s0iXWdwD",
        "outputId": "e0526b72-f541-4a54-a277-71cb1eb9da5a"
      },
      "execution_count": 5,
      "outputs": [
        {
          "output_type": "execute_result",
          "data": {
            "text/plain": [
              "[1, 2, 3.0, 'ajay', True]"
            ]
          },
          "metadata": {},
          "execution_count": 5
        }
      ]
    },
    {
      "cell_type": "code",
      "source": [
        "# 'tuple' is immutable data type ,when u change any element in tuple it will give you an error.\n",
        "tuple=(1,2,3.0,'abhi' , True)\n",
        "tuple[3]= 'ajay'"
      ],
      "metadata": {
        "colab": {
          "base_uri": "https://localhost:8080/",
          "height": 176
        },
        "id": "-TDUCVh0YBbB",
        "outputId": "0530501e-0f38-4bdd-89f7-a0d8d66970d4"
      },
      "execution_count": 6,
      "outputs": [
        {
          "output_type": "error",
          "ename": "TypeError",
          "evalue": "'tuple' object does not support item assignment",
          "traceback": [
            "\u001b[0;31m---------------------------------------------------------------------------\u001b[0m",
            "\u001b[0;31mTypeError\u001b[0m                                 Traceback (most recent call last)",
            "\u001b[0;32m<ipython-input-6-2f2be54ef8ab>\u001b[0m in \u001b[0;36m<cell line: 3>\u001b[0;34m()\u001b[0m\n\u001b[1;32m      1\u001b[0m \u001b[0;31m# 'tuple' is immutable data type ,when u change any element in tuple it will give you an error.\u001b[0m\u001b[0;34m\u001b[0m\u001b[0;34m\u001b[0m\u001b[0m\n\u001b[1;32m      2\u001b[0m \u001b[0mtuple\u001b[0m\u001b[0;34m=\u001b[0m\u001b[0;34m(\u001b[0m\u001b[0;36m1\u001b[0m\u001b[0;34m,\u001b[0m\u001b[0;36m2\u001b[0m\u001b[0;34m,\u001b[0m\u001b[0;36m3.0\u001b[0m\u001b[0;34m,\u001b[0m\u001b[0;34m'abhi'\u001b[0m \u001b[0;34m,\u001b[0m \u001b[0;32mTrue\u001b[0m\u001b[0;34m)\u001b[0m\u001b[0;34m\u001b[0m\u001b[0;34m\u001b[0m\u001b[0m\n\u001b[0;32m----> 3\u001b[0;31m \u001b[0mtuple\u001b[0m\u001b[0;34m[\u001b[0m\u001b[0;36m3\u001b[0m\u001b[0;34m]\u001b[0m\u001b[0;34m=\u001b[0m \u001b[0;34m'ajay'\u001b[0m\u001b[0;34m\u001b[0m\u001b[0;34m\u001b[0m\u001b[0m\n\u001b[0m",
            "\u001b[0;31mTypeError\u001b[0m: 'tuple' object does not support item assignment"
          ]
        }
      ]
    },
    {
      "cell_type": "markdown",
      "source": [
        "Ques 6- Write a function to demonstrate the behavior of mutable and immutable arguments?"
      ],
      "metadata": {
        "id": "DSYtenQ4Z2QQ"
      }
    },
    {
      "cell_type": "code",
      "source": [
        "# 'list' is mutable data type.\n",
        "list=[1,2,3.0,'abhi' , True]\n",
        "list[3]= 'ajay'\n",
        "list"
      ],
      "metadata": {
        "colab": {
          "base_uri": "https://localhost:8080/"
        },
        "id": "Z_YYSkgQYGgE",
        "outputId": "7caabb86-4612-4bd2-e34f-369a6df6519a"
      },
      "execution_count": 7,
      "outputs": [
        {
          "output_type": "execute_result",
          "data": {
            "text/plain": [
              "[1, 2, 3.0, 'ajay', True]"
            ]
          },
          "metadata": {},
          "execution_count": 7
        }
      ]
    },
    {
      "cell_type": "code",
      "source": [
        "# 'string' is immutable data type.\n",
        "name= 'abhi'\n",
        "name[1]= 'a'"
      ],
      "metadata": {
        "colab": {
          "base_uri": "https://localhost:8080/",
          "height": 176
        },
        "id": "jqcBiPjraDTh",
        "outputId": "cc37856d-404a-4215-dfd6-b9a83824d0a6"
      },
      "execution_count": 8,
      "outputs": [
        {
          "output_type": "error",
          "ename": "TypeError",
          "evalue": "'str' object does not support item assignment",
          "traceback": [
            "\u001b[0;31m---------------------------------------------------------------------------\u001b[0m",
            "\u001b[0;31mTypeError\u001b[0m                                 Traceback (most recent call last)",
            "\u001b[0;32m<ipython-input-8-35b300c995ac>\u001b[0m in \u001b[0;36m<cell line: 3>\u001b[0;34m()\u001b[0m\n\u001b[1;32m      1\u001b[0m \u001b[0;31m# 'string' is immutable data type.\u001b[0m\u001b[0;34m\u001b[0m\u001b[0;34m\u001b[0m\u001b[0m\n\u001b[1;32m      2\u001b[0m \u001b[0mname\u001b[0m\u001b[0;34m=\u001b[0m \u001b[0;34m'abhi'\u001b[0m\u001b[0;34m\u001b[0m\u001b[0;34m\u001b[0m\u001b[0m\n\u001b[0;32m----> 3\u001b[0;31m \u001b[0mname\u001b[0m\u001b[0;34m[\u001b[0m\u001b[0;36m1\u001b[0m\u001b[0;34m]\u001b[0m\u001b[0;34m=\u001b[0m \u001b[0;34m'a'\u001b[0m\u001b[0;34m\u001b[0m\u001b[0;34m\u001b[0m\u001b[0m\n\u001b[0m",
            "\u001b[0;31mTypeError\u001b[0m: 'str' object does not support item assignment"
          ]
        }
      ]
    },
    {
      "cell_type": "markdown",
      "source": [
        "Ques 7- Write a function to demonstrate the behavior of mutable and immutable arguments?"
      ],
      "metadata": {
        "id": "0_yB_t2obdY7"
      }
    },
    {
      "cell_type": "code",
      "source": [
        "# 'list' is mutable data type.\n",
        "list=[1,2,3.0,'abhi' , True]\n",
        "list[3]= 'ajay'\n",
        "list"
      ],
      "metadata": {
        "colab": {
          "base_uri": "https://localhost:8080/"
        },
        "id": "FbqNt3lbbcel",
        "outputId": "ae9dbfb0-e126-42d0-ef90-af303c5d0f89"
      },
      "execution_count": 9,
      "outputs": [
        {
          "output_type": "execute_result",
          "data": {
            "text/plain": [
              "[1, 2, 3.0, 'ajay', True]"
            ]
          },
          "metadata": {},
          "execution_count": 9
        }
      ]
    },
    {
      "cell_type": "code",
      "source": [
        "# 'string' is immutable data type.\n",
        "name= 'abhi'\n",
        "name[1]= 'a'"
      ],
      "metadata": {
        "colab": {
          "base_uri": "https://localhost:8080/",
          "height": 176
        },
        "id": "EbBDyNbQbRpg",
        "outputId": "157823f5-33c4-4ea9-c5eb-38470356335d"
      },
      "execution_count": 10,
      "outputs": [
        {
          "output_type": "error",
          "ename": "TypeError",
          "evalue": "'str' object does not support item assignment",
          "traceback": [
            "\u001b[0;31m---------------------------------------------------------------------------\u001b[0m",
            "\u001b[0;31mTypeError\u001b[0m                                 Traceback (most recent call last)",
            "\u001b[0;32m<ipython-input-10-35b300c995ac>\u001b[0m in \u001b[0;36m<cell line: 3>\u001b[0;34m()\u001b[0m\n\u001b[1;32m      1\u001b[0m \u001b[0;31m# 'string' is immutable data type.\u001b[0m\u001b[0;34m\u001b[0m\u001b[0;34m\u001b[0m\u001b[0m\n\u001b[1;32m      2\u001b[0m \u001b[0mname\u001b[0m\u001b[0;34m=\u001b[0m \u001b[0;34m'abhi'\u001b[0m\u001b[0;34m\u001b[0m\u001b[0;34m\u001b[0m\u001b[0m\n\u001b[0;32m----> 3\u001b[0;31m \u001b[0mname\u001b[0m\u001b[0;34m[\u001b[0m\u001b[0;36m1\u001b[0m\u001b[0;34m]\u001b[0m\u001b[0;34m=\u001b[0m \u001b[0;34m'a'\u001b[0m\u001b[0;34m\u001b[0m\u001b[0;34m\u001b[0m\u001b[0m\n\u001b[0m",
            "\u001b[0;31mTypeError\u001b[0m: 'str' object does not support item assignment"
          ]
        }
      ]
    },
    {
      "cell_type": "markdown",
      "source": [
        "Ques 8- Write a program to demonstrate the use of logical operators?"
      ],
      "metadata": {
        "id": "Yo_svVVNb1ii"
      }
    },
    {
      "cell_type": "code",
      "source": [
        "\n",
        "  # AND operator\n",
        "  a = True\n",
        "  b = False\n",
        "  print(f\"a AND b: {a and b}\")"
      ],
      "metadata": {
        "colab": {
          "base_uri": "https://localhost:8080/"
        },
        "id": "dlC910ZOh7SE",
        "outputId": "fdf7ea44-8548-485f-c765-6405d27bf436"
      },
      "execution_count": 33,
      "outputs": [
        {
          "output_type": "stream",
          "name": "stdout",
          "text": [
            "a AND b: False\n"
          ]
        }
      ]
    },
    {
      "cell_type": "code",
      "source": [
        "# or opreator\n",
        "a = True\n",
        "b = False\n",
        "print(f\"a or b: {a or b}\")"
      ],
      "metadata": {
        "colab": {
          "base_uri": "https://localhost:8080/"
        },
        "id": "JI9StuaYj2EI",
        "outputId": "fce50b0b-04a3-4e1d-e9cb-7b579cf2403f"
      },
      "execution_count": 34,
      "outputs": [
        {
          "output_type": "stream",
          "name": "stdout",
          "text": [
            "a or b: True\n"
          ]
        }
      ]
    },
    {
      "cell_type": "code",
      "source": [
        "# not opreator\n",
        "a = True\n",
        "b = False\n",
        "print(f\"not b: {not b}\")\n",
        "print(f\"not a: {not a}\")"
      ],
      "metadata": {
        "colab": {
          "base_uri": "https://localhost:8080/"
        },
        "id": "I9UyO3a3lbAB",
        "outputId": "17fc46b4-de77-4e3e-e8cd-8256a0cbeb7f"
      },
      "execution_count": 37,
      "outputs": [
        {
          "output_type": "stream",
          "name": "stdout",
          "text": [
            "not b: True\n",
            "not a: False\n"
          ]
        }
      ]
    },
    {
      "cell_type": "markdown",
      "source": [
        "Ques 9- Write a Python program to convert user input from string to integer, float, and boolean types ?"
      ],
      "metadata": {
        "id": "oO7oS89KdA3r"
      }
    },
    {
      "cell_type": "code",
      "source": [
        "#convert user input from string to integer\n",
        "x = '12345'\n",
        "n = int(x)\n",
        "print(n)\n",
        "print(type(n))\n",
        "\n"
      ],
      "metadata": {
        "colab": {
          "base_uri": "https://localhost:8080/"
        },
        "id": "VMTXFzcicKXo",
        "outputId": "07fdd4dc-8c03-479f-de03-7466e988267f"
      },
      "execution_count": 45,
      "outputs": [
        {
          "output_type": "stream",
          "name": "stdout",
          "text": [
            "12345\n",
            "<class 'int'>\n"
          ]
        }
      ]
    },
    {
      "cell_type": "code",
      "source": [
        "#convert user input from string to float\n",
        "a = '123.45'\n",
        "b = float(a)\n",
        "print(b)\n",
        "print(type(b))"
      ],
      "metadata": {
        "colab": {
          "base_uri": "https://localhost:8080/"
        },
        "id": "ppiOTjbvdIW9",
        "outputId": "27982d02-3bc6-4ca6-d121-2df1193e2371"
      },
      "execution_count": 46,
      "outputs": [
        {
          "output_type": "stream",
          "name": "stdout",
          "text": [
            "123.45\n",
            "<class 'float'>\n"
          ]
        }
      ]
    },
    {
      "cell_type": "code",
      "source": [
        "#convert user input from string to boolean types\n",
        "a = '123'\n",
        "b = bool(a)\n",
        "print(b)\n",
        "print(type(b))"
      ],
      "metadata": {
        "colab": {
          "base_uri": "https://localhost:8080/"
        },
        "id": "VW89PzFfrXsJ",
        "outputId": "a51fe601-f146-4fd2-e965-a3cbddbe42d4"
      },
      "execution_count": 47,
      "outputs": [
        {
          "output_type": "stream",
          "name": "stdout",
          "text": [
            "True\n",
            "<class 'bool'>\n"
          ]
        }
      ]
    },
    {
      "cell_type": "markdown",
      "source": [
        "Ques 10- Write code to demonstrate type casting with list elements ?"
      ],
      "metadata": {
        "id": "lK2oEUKKrzbF"
      }
    },
    {
      "cell_type": "code",
      "source": [
        "my_list = [1.5, 2.3, \"3\", \"4.5\", \"abc\"]\n",
        "\n",
        "print(my_list)\n",
        "print(type(my_list))\n",
        "print(id(my_list))\n",
        "\n",
        "b = str(my_list)\n",
        "\n",
        "print(b)\n",
        "print(type(b))\n",
        "print(id(b))\n"
      ],
      "metadata": {
        "colab": {
          "base_uri": "https://localhost:8080/"
        },
        "id": "ADrUGID9tSiy",
        "outputId": "333d6e2e-4245-400e-d959-cd6aea1fdc39"
      },
      "execution_count": 13,
      "outputs": [
        {
          "output_type": "stream",
          "name": "stdout",
          "text": [
            "[1.5, 2.3, '3', '4.5', 'abc']\n",
            "<class 'list'>\n",
            "131934404736576\n",
            "[1.5, 2.3, '3', '4.5', 'abc']\n",
            "<class 'str'>\n",
            "131934404705424\n"
          ]
        }
      ]
    },
    {
      "cell_type": "markdown",
      "source": [
        "Ques 11- Write a program that checks if a number is positive, negative, or zero?"
      ],
      "metadata": {
        "id": "j5ZsNmE_2kek"
      }
    },
    {
      "cell_type": "code",
      "source": [
        "a=int(input('enter a number '))\n",
        "if a > 0 :\n",
        "    print ('This is positive ')\n",
        "elif a < 0:\n",
        "    print ('This is negative ')\n",
        "else :\n",
        "    print ('This is zero ')"
      ],
      "metadata": {
        "colab": {
          "base_uri": "https://localhost:8080/"
        },
        "id": "mGqHYCrG2rUl",
        "outputId": "84171678-5535-4a53-e331-960e207c6e32"
      },
      "execution_count": 81,
      "outputs": [
        {
          "output_type": "stream",
          "name": "stdout",
          "text": [
            "enter a number -1\n",
            "This is negative \n"
          ]
        }
      ]
    },
    {
      "cell_type": "markdown",
      "source": [
        "Ques 12- Write a for loop to print numbers from 1 to 10 ?"
      ],
      "metadata": {
        "id": "UFBbXDaE3MfR"
      }
    },
    {
      "cell_type": "code",
      "source": [
        "for i in range(1,10):\n",
        "    print (i,end=\" \")\n"
      ],
      "metadata": {
        "colab": {
          "base_uri": "https://localhost:8080/"
        },
        "id": "CDpMynPBvopy",
        "outputId": "d2cc63de-e54f-401d-c3af-02099b8c6f38"
      },
      "execution_count": 83,
      "outputs": [
        {
          "output_type": "stream",
          "name": "stdout",
          "text": [
            "1 2 3 4 5 6 7 8 9 "
          ]
        }
      ]
    },
    {
      "cell_type": "markdown",
      "source": [
        "Ques 13- Write a Python program to find the sum of all even numbers between 1 and 50?"
      ],
      "metadata": {
        "id": "GhY82f2f3oaP"
      }
    },
    {
      "cell_type": "code",
      "source": [
        "su_m = 0\n",
        "for number in range(2, 51):\n",
        "    if number % 2 == 0:\n",
        "        su_m += number\n",
        "        print(\"even numbers between 1 and 50 is :\",su_m)"
      ],
      "metadata": {
        "colab": {
          "base_uri": "https://localhost:8080/"
        },
        "id": "s1vVM-3-3ceO",
        "outputId": "bc89a28e-b267-44dc-c126-f4c4785cf4eb"
      },
      "execution_count": 2,
      "outputs": [
        {
          "output_type": "stream",
          "name": "stdout",
          "text": [
            "even numbers between 1 and 50 is : 2\n",
            "even numbers between 1 and 50 is : 6\n",
            "even numbers between 1 and 50 is : 12\n",
            "even numbers between 1 and 50 is : 20\n",
            "even numbers between 1 and 50 is : 30\n",
            "even numbers between 1 and 50 is : 42\n",
            "even numbers between 1 and 50 is : 56\n",
            "even numbers between 1 and 50 is : 72\n",
            "even numbers between 1 and 50 is : 90\n",
            "even numbers between 1 and 50 is : 110\n",
            "even numbers between 1 and 50 is : 132\n",
            "even numbers between 1 and 50 is : 156\n",
            "even numbers between 1 and 50 is : 182\n",
            "even numbers between 1 and 50 is : 210\n",
            "even numbers between 1 and 50 is : 240\n",
            "even numbers between 1 and 50 is : 272\n",
            "even numbers between 1 and 50 is : 306\n",
            "even numbers between 1 and 50 is : 342\n",
            "even numbers between 1 and 50 is : 380\n",
            "even numbers between 1 and 50 is : 420\n",
            "even numbers between 1 and 50 is : 462\n",
            "even numbers between 1 and 50 is : 506\n",
            "even numbers between 1 and 50 is : 552\n",
            "even numbers between 1 and 50 is : 600\n",
            "even numbers between 1 and 50 is : 650\n"
          ]
        }
      ]
    },
    {
      "cell_type": "markdown",
      "source": [
        "Ques 14- Write a program to reverse a string using a while loop ?"
      ],
      "metadata": {
        "id": "XiFACa5l31Rq"
      }
    },
    {
      "cell_type": "code",
      "source": [
        "original_string = input(\"Enter a string: \")\n",
        "\n",
        "reversed_string = \"\"\n",
        "\n",
        "index = len(original_string) - 1\n",
        "\n",
        "while index >= 0:\n",
        "    reversed_string +=original_string[index]\n",
        "    index-=1\n",
        "print(\"Reversed string:\", reversed_string)"
      ],
      "metadata": {
        "colab": {
          "base_uri": "https://localhost:8080/"
        },
        "id": "VjLWcZfV3sxJ",
        "outputId": "c4b7fdd0-b131-47c0-95fc-e20124c7a9d0"
      },
      "execution_count": 85,
      "outputs": [
        {
          "output_type": "stream",
          "name": "stdout",
          "text": [
            "Enter a string: 123\n",
            "Reversed string: 321\n"
          ]
        }
      ]
    },
    {
      "cell_type": "markdown",
      "source": [
        "Ques 15- Write a Python program to calculate the factorial of a number provided by the user using a while loop?"
      ],
      "metadata": {
        "id": "KTt7Ubju4avn"
      }
    },
    {
      "cell_type": "code",
      "source": [
        "number = int(input(\"Enter a non-negative integer: \"))\n",
        "\n",
        "if number < 0:\n",
        "    print(\"Factor is a negative numbers.\")\n",
        "else:\n",
        "    factorial = 1\n",
        "    i = 1\n",
        "\n",
        "    while i <= number:\n",
        "        factorial *= i\n",
        "        i += 1\n",
        "\n",
        "    print(f\"The factorial of {number} is {factorial}.\")"
      ],
      "metadata": {
        "colab": {
          "base_uri": "https://localhost:8080/"
        },
        "id": "IVdymzAj4QhL",
        "outputId": "3b283350-0c41-4d72-f820-6f18e36b7374"
      },
      "execution_count": 88,
      "outputs": [
        {
          "output_type": "stream",
          "name": "stdout",
          "text": [
            "Enter a non-negative integer: 3\n",
            "The factorial of 3 is 6.\n"
          ]
        }
      ]
    },
    {
      "cell_type": "code",
      "source": [],
      "metadata": {
        "id": "ur16uKva4mo-"
      },
      "execution_count": null,
      "outputs": []
    }
  ]
}